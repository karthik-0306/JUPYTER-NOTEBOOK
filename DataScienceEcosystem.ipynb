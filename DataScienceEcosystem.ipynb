{
 "cells": [
  {
   "cell_type": "markdown",
   "id": "a6da41a6-d9a7-4f5f-b9e5-ede10da49881",
   "metadata": {},
   "source": [
    "# Assignment Title\n",
    "Assignment is the title of my jupyter nonebook"
   ]
  },
  {
   "cell_type": "markdown",
   "id": "586d301c-f34d-4121-89db-7e883bba5337",
   "metadata": {},
   "source": [
    "# Introduction\n",
    "\n",
    "Welcome to this notebook! \n"
   ]
  },
  {
   "cell_type": "markdown",
   "id": "d5781ef3-1d91-4592-83d3-5b476c622764",
   "metadata": {},
   "source": [
    "# Data  Science languages\n",
    "Here’s a list of popular data science languages:\n",
    "\n",
    "Python\n",
    "\n",
    "R\n",
    "\n",
    "SQL\n",
    "\n",
    "Julia\n",
    "\n",
    "Scala\n",
    "\n",
    "Java"
   ]
  },
  {
   "cell_type": "markdown",
   "id": "6f112df4-a3b1-42ff-9556-124263733100",
   "metadata": {},
   "source": [
    "# Data Science Libraries\n",
    "\n",
    "- NumPy  \n",
    "- Pandas  \n",
    "- Matplotlib  \n",
    "- Seaborn  \n",
    "- Scikit-learn  \n",
    "- TensorFlow  \n",
    "- PyTorch  \n",
    "- Keras  \n",
    "- Statsmodels  \n",
    "- NLTK\n"
   ]
  },
  {
   "cell_type": "markdown",
   "id": "ca2c31c6-f2fa-4d15-8332-2d490fc20d3b",
   "metadata": {},
   "source": [
    "# Data Science Tools\n",
    "\n",
    "Jupyter Notebook  \n",
    "RStudio  \n",
    "Apache Spark  \n",
    "Tableau  \n",
    "Power BI  \n",
    "Hadoop  \n",
    "MATLAB  \n"
   ]
  },
  {
   "cell_type": "code",
   "execution_count": null,
   "id": "d9310d89-b148-4465-a417-6754a12f90ca",
   "metadata": {},
   "outputs": [],
   "source": []
  },
  {
   "cell_type": "markdown",
   "id": "b94a849e-1ad5-42d4-b3f4-66beba73b45e",
   "metadata": {},
   "source": [
    "# Arithmetic Expression Examples\n",
    "\n",
    "Addition: `3 + 5 = 8`  \n",
    "Subtraction: `10 - 4 = 6`  \n",
    "Multiplication: `7 * 2 = 14`  \n",
    "Division: `20 / 4 = 5`  \n",
    "Exponentiation: `2^3 = 8`  \n",
    "Modulo (Remainder): `10 % 3 = 1`\n"
   ]
  },
  {
   "cell_type": "code",
   "execution_count": 14,
   "id": "22925050-b05d-4a7d-86c5-3b71ff2d02c6",
   "metadata": {},
   "outputs": [
    {
     "name": "stdout",
     "output_type": "stream",
     "text": [
      "Product: 15\n",
      "Sum: 8\n"
     ]
    }
   ],
   "source": [
    "num1 = 5\n",
    "num2 = 3\n",
    "\n",
    "product = num1 * num2\n",
    "\n",
    "sum_result = num1 + num2\n",
    "\n",
    "print(\"Product:\", product)\n",
    "print(\"Sum:\", sum_result)"
   ]
  },
  {
   "cell_type": "code",
   "execution_count": 16,
   "id": "bc4c74fd-bb6b-4f9f-b8d8-6d41f0ad8bb1",
   "metadata": {},
   "outputs": [
    {
     "name": "stdout",
     "output_type": "stream",
     "text": [
      "150 minutes is equal to 2.50 hours.\n"
     ]
    }
   ],
   "source": [
    "\n",
    "minutes = 150  \n",
    "\n",
    "hours = minutes / 60\n",
    "\n",
    "print(f\"{minutes} minutes is equal to {hours:.2f} hours.\")\n"
   ]
  },
  {
   "cell_type": "markdown",
   "id": "f1171949-edb3-4f26-adee-bd41a0f7f72a",
   "metadata": {},
   "source": [
    "# Objectives\n",
    "\n",
    "- Understand the basics of data science tools and techniques.  \n",
    "- Learn how to analyze and visualize data effectively.  \n",
    "- Apply machine learning algorithms to solve real-world problems.  \n"
   ]
  },
  {
   "cell_type": "markdown",
   "id": "f35f57e2-df6e-4d92-8ff1-5a1039134a0e",
   "metadata": {},
   "source": [
    "# Author\n",
    "\n",
    "This notebook was created by THOTA. SAI KARTHIK.  \n"
   ]
  }
 ],
 "metadata": {
  "kernelspec": {
   "display_name": "Python 3 (ipykernel)",
   "language": "python",
   "name": "python3"
  },
  "language_info": {
   "codemirror_mode": {
    "name": "ipython",
    "version": 3
   },
   "file_extension": ".py",
   "mimetype": "text/x-python",
   "name": "python",
   "nbconvert_exporter": "python",
   "pygments_lexer": "ipython3",
   "version": "3.12.7"
  }
 },
 "nbformat": 4,
 "nbformat_minor": 5
}
